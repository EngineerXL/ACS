{
 "cells": [
  {
   "cell_type": "markdown",
   "metadata": {},
   "source": [
    "# Полиномы, НОД, расширенный Евклид"
   ]
  },
  {
   "cell_type": "markdown",
   "metadata": {},
   "source": [
    "### Вариант 4"
   ]
  },
  {
   "cell_type": "code",
   "execution_count": 1,
   "metadata": {},
   "outputs": [
    {
     "name": "stdout",
     "output_type": "stream",
     "text": [
      "                  2       3      4\n",
      "f(x) = -5 x + 15 x  - 15 x  + 5 x\n",
      "                       3       4       5\n",
      "f(x) = 99 - 99 x - 11 x  + 33 x  - 22 x\n"
     ]
    }
   ],
   "source": [
    "f[x_] := 5 * x ^ 4 - 15 * x ^ 3 + 15 * x ^ 2 - 5 * x\n",
    "g[x_] := -22 * x ^ 5 + 33 * x ^ 4 - 11 * x ^ 3 - 99 * x + 99\n",
    "\n",
    "Print[\"f(x) = \", f[x]]\n",
    "Print[\"f(x) = \", g[x]]"
   ]
  },
  {
   "cell_type": "code",
   "execution_count": 5,
   "metadata": {},
   "outputs": [],
   "source": [
    "extGCD[a_, b_] := Module [\n",
    "    {q, r, d, x1, y1},\n",
    "    If [\n",
    "        a === 0,\n",
    "        {b, 0, 1},\n",
    "        {q, r} = PolynomialQuotientRemainder[b, a, x];\n",
    "        {d, x1, y1} = extGCD[r, a];\n",
    "        {d, y1 - q * x1, x1}\n",
    "    ]\n",
    "]"
   ]
  },
  {
   "cell_type": "code",
   "execution_count": 6,
   "metadata": {},
   "outputs": [
    {
     "name": "stdout",
     "output_type": "stream",
     "text": [
      "                  -6336 (-1 + x)\n",
      "GCD(f(x), g(x)) = --------------\n",
      "                        49\n"
     ]
    }
   ],
   "source": [
    "ans := extGCD[f[x], g[x]]\n",
    "\n",
    "Print[\"GCD(f(x), g(x)) = \", Simplify[ans[[1]]]]"
   ]
  },
  {
   "cell_type": "markdown",
   "metadata": {},
   "source": [
    "Сравним со встроенной функцией"
   ]
  },
  {
   "cell_type": "code",
   "execution_count": 8,
   "metadata": {},
   "outputs": [
    {
     "name": "stdout",
     "output_type": "stream",
     "text": [
      "GCD(f(x), g(x)) = -1 + x\n"
     ]
    }
   ],
   "source": [
    "Print[\"GCD(f(x), g(x)) = \", PolynomialGCD[f[x], g[x]]]"
   ]
  },
  {
   "cell_type": "markdown",
   "metadata": {},
   "source": [
    "Разница в константу, на которую можно поделить"
   ]
  },
  {
   "cell_type": "code",
   "execution_count": 9,
   "metadata": {},
   "outputs": [
    {
     "name": "stdout",
     "output_type": "stream",
     "text": [
      "      6336\n",
      "C = -(----)\n",
      "       49\n",
      "GCD(f(x), g(x)) = -1 + x\n",
      "GCD(f(x), g(x)) = u * f(x) + v * g(x)\n",
      "                     2       3\n",
      "    -45 - 27 x + 11 x  + 14 x\n",
      "u = --------------------------\n",
      "               900\n",
      "                   2\n",
      "    -20 - 5 x + 7 x\n",
      "v = ----------------\n",
      "          1980\n"
     ]
    }
   ],
   "source": [
    "coefficient := CoefficientList[ans[[1]], x]//Last\n",
    "\n",
    "Print[\"C = \", coefficient]\n",
    "\n",
    "If[\n",
    "    Simplify[ans[[1]]] === Simplify[ans[[2]] * f[x] + ans[[3]] * g[x]],\n",
    "    Print[\"GCD(f(x), g(x)) = \", Simplify[ans[[1]] / coefficient]];\n",
    "    Print[\"GCD(f(x), g(x)) = u * f(x) + v * g(x)\"];\n",
    "    Print[\"u = \", Simplify[ans[[2]] / coefficient]];\n",
    "    Print[\"v = \", Simplify[ans[[3]] / coefficient]];\n",
    "]"
   ]
  },
  {
   "cell_type": "code",
   "execution_count": null,
   "metadata": {},
   "outputs": [],
   "source": []
  }
 ],
 "metadata": {
  "kernelspec": {
   "display_name": "Wolfram Language 12.2",
   "language": "Wolfram Language",
   "name": "wolframlanguage12.2"
  },
  "language_info": {
   "codemirror_mode": "mathematica",
   "file_extension": ".m",
   "mimetype": "application/vnd.wolfram.m",
   "name": "Wolfram Language",
   "pygments_lexer": "mathematica",
   "version": "12.0"
  }
 },
 "nbformat": 4,
 "nbformat_minor": 4
}
