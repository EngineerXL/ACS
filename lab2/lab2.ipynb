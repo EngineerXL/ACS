{
 "cells": [
  {
   "cell_type": "markdown",
   "metadata": {},
   "source": [
    "# Лабораторная работа № 2\n",
    "\n",
    "## По курсу \"Системы аналитических вычислений\"\n",
    "\n",
    "### Студент: Инютин М. А.\n",
    "\n",
    "## Задание 1. Метод прямоугольников, метод трапеций."
   ]
  },
  {
   "cell_type": "code",
   "execution_count": 86,
   "metadata": {},
   "outputs": [],
   "source": [
    "# Точность вычислений (знаков после запятой)\n",
    "acc = 6\n",
    "\n",
    "def RectMethod(y, a, b, count):\n",
    "    step = (b - a) / count\n",
    "    values = []\n",
    "    for i in range(count):\n",
    "        values.append(a + i * step)\n",
    "    values.append(b)\n",
    "    f_values = []\n",
    "    min_val = 0\n",
    "    max_val = 0\n",
    "    for i in range(count):\n",
    "        cur_f_val = y(values[i])\n",
    "        min_val = min(cur_f_val, min_val)\n",
    "        max_val = max(cur_f_val, max_val)\n",
    "        f_values.append(cur_f_val)\n",
    "    # Добавление прямоугольников на график\n",
    "    visualization = plot(y, xmin = a, xmax = b, ymin = min_val, ymax = max_val, color = \"red\")\n",
    "    for i in range(count):\n",
    "        rect = [\n",
    "            [values[i], 0],\n",
    "            [values[i], f_values[i]],\n",
    "            [values[i + 1], f_values[i]],\n",
    "            [values[i + 1], 0]\n",
    "        ]\n",
    "        rect.append(rect[0])\n",
    "        visualization += line(rect, color = \"blue\")\n",
    "    # Вычисление ответа\n",
    "    ans = 0\n",
    "    for i in range(count):\n",
    "        ans = ans + step * f_values[i]\n",
    "#     При желании можно вывести интеграл\n",
    "#     expr = LatexExpr(r'\\int_{' + str(a.n(digits = acc)) + r'}^{' + str(b.n(digits = acc)) + r'} ' + latex(y(x)) + r' \\,dx \\approx ' + str(ans.n(digits = acc)))\n",
    "    return visualization\n",
    "\n",
    "def TrapMethod(y, a, b, count):\n",
    "    step = (b - a) / count\n",
    "    values = []\n",
    "    for i in range(count):\n",
    "        values.append(a + i * step)\n",
    "    values.append(b)\n",
    "    f_values = []\n",
    "    min_val = 0\n",
    "    max_val = 0\n",
    "    for i in range(count + 1):\n",
    "        cur_f_val = y(values[i])\n",
    "        min_val = min(cur_f_val, min_val)\n",
    "        max_val = max(cur_f_val, max_val)\n",
    "        f_values.append(cur_f_val)\n",
    "    # Добавление трапеций на график\n",
    "    visualization = plot(y, xmin = a, xmax = b, ymin = min_val, ymax = max_val, color = \"red\")\n",
    "    for i in range(count):\n",
    "        trapeze = [\n",
    "            [values[i], 0],\n",
    "            [values[i], f_values[i]],\n",
    "            [values[i + 1], f_values[i + 1]],\n",
    "            [values[i + 1], 0]\n",
    "        ]\n",
    "        trapeze.append(trapeze[0])\n",
    "        visualization += line(trapeze, color = \"blue\")\n",
    "    # Вычисление ответа\n",
    "    ans = 0\n",
    "    for i in range(count):\n",
    "        ans = ans + step * (f_values[i] + f_values[i + 1]) / 2\n",
    "#     При желании можно вывести интеграл\n",
    "#     expr = LatexExpr(r'\\int_{' + str(a.n(digits = acc)) + r'}^{' + str(b.n(digits = acc)) + r'} ' + latex(y(x)) + r' \\,dx \\approx ' + str(ans.n(digits = acc)))\n",
    "    return visualization\n"
   ]
  },
  {
   "cell_type": "code",
   "execution_count": 87,
   "metadata": {},
   "outputs": [],
   "source": [
    "integral_f(x) = (ln(x-2) + 1) / (x-2)\n",
    "left_integral_border = 2.5\n",
    "right_integral_border = 50\n",
    "\n",
    "min_steps = 1\n",
    "max_steps = 100"
   ]
  },
  {
   "cell_type": "code",
   "execution_count": 88,
   "metadata": {},
   "outputs": [
    {
     "data": {
      "application/vnd.jupyter.widget-view+json": {
       "model_id": "edda0b53dec747daa1971e5541c18a32"
      }
     },
     "metadata": {},
     "output_type": "display_data"
    }
   ],
   "source": [
    "@interact\n",
    "def _(step = (min_steps, max_steps, 1)):\n",
    "    visRect = RectMethod(integral_f, left_integral_border, right_integral_border, step)\n",
    "    visTrap = TrapMethod(integral_f, left_integral_border, right_integral_border, step)\n",
    "    graphics_array([visRect, visTrap]).show(frame=True, axes=False)"
   ]
  },
  {
   "cell_type": "markdown",
   "metadata": {},
   "source": [
    "## Задание 2. Полиномы и расширенный алгоритм Евклида."
   ]
  },
  {
   "cell_type": "code",
   "execution_count": 89,
   "metadata": {},
   "outputs": [],
   "source": [
    "# Расширенный алгоритм Евклида\n",
    "# Возвращает НОД и коэффициенты\n",
    "def __gcd(a, b):\n",
    "    if (a == 0):\n",
    "        return (b, 0, 1)\n",
    "    q = b // a\n",
    "    r = b % a\n",
    "    d, x1, y1 = (i for i in __gcd(r, a))\n",
    "    x = y1 - q * x1\n",
    "    y = x1\n",
    "    return (d, x, y)"
   ]
  },
  {
   "cell_type": "code",
   "execution_count": 90,
   "metadata": {},
   "outputs": [
    {
     "data": {
      "text/html": [
       "<html><script type=\"math/tex; mode=display\">\\newcommand{\\Bold}[1]{\\mathbf{#1}}\\gcd(f(x), g(x)) = x^{2} - \\frac{11}{5} x + \\frac{1}{5}</script></html>"
      ],
      "text/plain": [
       "\\gcd(f(x), g(x)) = x^{2} - \\frac{11}{5} x + \\frac{1}{5}"
      ]
     },
     "metadata": {},
     "output_type": "display_data"
    },
    {
     "data": {
      "text/html": [
       "<html><script type=\"math/tex; mode=display\">\\newcommand{\\Bold}[1]{\\mathbf{#1}}\\gcd^{\\sim}(f(x), g(x)) = 640 x^{2} - 1408 x + 128</script></html>"
      ],
      "text/plain": [
       "\\gcd^{\\sim}(f(x), g(x)) = 640 x^{2} - 1408 x + 128"
      ]
     },
     "metadata": {},
     "output_type": "display_data"
    }
   ],
   "source": [
    "# Вариант 4\n",
    "R.<x> = QQ[\"x\"]\n",
    "\n",
    "f = 5 * x ^ 5 - 21 * x ^ 4 + 23 * x ^ 3 - 37 * x ^ 2 + 77 * x - 7\n",
    "g = 10 * x ^ 4 - 42 * x ^ 3 + 56 * x ^ 2 - 26 * x + 2\n",
    "\n",
    "show(LatexExpr(r'\\gcd(f(x), g(x)) = ' + latex(gcd(f, g))))\n",
    "d, a, b = (i for i in __gcd(f, g))\n",
    "show(LatexExpr(r'\\gcd^{\\sim}(f(x), g(x)) = ' + latex(d)))"
   ]
  },
  {
   "cell_type": "markdown",
   "metadata": {},
   "source": [
    "Мой алгоритм вывел НОД в 128 раз больше, чем стандартная функция gcd, ничего не мешает поделить на этот коэффициент"
   ]
  },
  {
   "cell_type": "code",
   "execution_count": 91,
   "metadata": {},
   "outputs": [
    {
     "data": {
      "text/html": [
       "<html><script type=\"math/tex; mode=display\">\\newcommand{\\Bold}[1]{\\mathbf{#1}}f(x) * u + v * g(x) = \\gcd(f(x), g(x))</script></html>"
      ],
      "text/plain": [
       "f(x) * u + v * g(x) = \\gcd(f(x), g(x))"
      ]
     },
     "metadata": {},
     "output_type": "display_data"
    },
    {
     "data": {
      "text/html": [
       "<html><script type=\"math/tex; mode=display\">\\newcommand{\\Bold}[1]{\\mathbf{#1}}u = 2 x - 18</script></html>"
      ],
      "text/plain": [
       "u = 2 x - 18"
      ]
     },
     "metadata": {},
     "output_type": "display_data"
    },
    {
     "data": {
      "text/html": [
       "<html><script type=\"math/tex; mode=display\">\\newcommand{\\Bold}[1]{\\mathbf{#1}}v = -x^{2} + 9 x + 1</script></html>"
      ],
      "text/plain": [
       "v = -x^{2} + 9 x + 1"
      ]
     },
     "metadata": {},
     "output_type": "display_data"
    },
    {
     "data": {
      "text/html": [
       "<html><script type=\"math/tex; mode=display\">\\newcommand{\\Bold}[1]{\\mathbf{#1}}( 5 x^{5} - 21 x^{4} + 23 x^{3} - 37 x^{2} + 77 x - 7 ) * ( 2 x - 18 ) + ( -x^{2} + 9 x + 1 ) * ( 10 x^{4} - 42 x^{3} + 56 x^{2} - 26 x + 2 ) = 640 x^{2} - 1408 x + 128</script></html>"
      ],
      "text/plain": [
       "( 5 x^{5} - 21 x^{4} + 23 x^{3} - 37 x^{2} + 77 x - 7 ) * ( 2 x - 18 ) + ( -x^{2} + 9 x + 1 ) * ( 10 x^{4} - 42 x^{3} + 56 x^{2} - 26 x + 2 ) = 640 x^{2} - 1408 x + 128"
      ]
     },
     "metadata": {},
     "output_type": "display_data"
    }
   ],
   "source": [
    "if ((f(x) * a + g(x) * b) == d):\n",
    "    show(LatexExpr(r'f(x) * u + v * g(x) = \\gcd(f(x), g(x))'))\n",
    "    show(LatexExpr(\"u = \" + latex(a)))\n",
    "    show(LatexExpr(\"v = \" + latex(b)))\n",
    "    show(LatexExpr(\"(\" + latex(f(x)) + \") * (\" + latex(a) + \") + (\" + latex(b) + \") * (\" + latex(g(x)) + \") = \" + latex(d)))"
   ]
  },
  {
   "cell_type": "code",
   "execution_count": null,
   "metadata": {},
   "outputs": [],
   "source": []
  }
 ],
 "metadata": {
  "kernelspec": {
   "display_name": "SageMath 9.0",
   "language": "sage",
   "name": "sagemath"
  },
  "language_info": {
   "codemirror_mode": {
    "name": "ipython",
    "version": 3
   },
   "file_extension": ".py",
   "mimetype": "text/x-python",
   "name": "python",
   "nbconvert_exporter": "python",
   "pygments_lexer": "ipython3",
   "version": "3.8.5"
  }
 },
 "nbformat": 4,
 "nbformat_minor": 4
}
